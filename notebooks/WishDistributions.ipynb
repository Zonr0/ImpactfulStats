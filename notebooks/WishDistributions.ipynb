{
 "cells": [
  {
   "cell_type": "markdown",
   "source": [
    "Note: This file is currently on hold while the jupyter environment continues to be a pain on my local machine.\n",
    "\n",
    "\n",
    "We can get simple results by using a binomial distribution and using the published consolidated rates. However, this is\n",
    "rather simplisitic, and ignores the way that pity actually works. While we don't know for sure how exactly pity works,\n",
    "there is very convincing speculative research from the Chinese playerbase that there is a soft pity threshold at which\n",
    "the 5 star rate jumps to 33% chance per pull."
   ],
   "metadata": {
    "collapsed": false,
    "pycharm": {
     "name": "#%% md\n"
    }
   }
  },
  {
   "cell_type": "code",
   "execution_count": null,
   "metadata": {
    "collapsed": true
   },
   "outputs": [],
   "source": [
    "## First, lets import the libraries we will need:\n",
    "\n",
    "import numpy as np\n",
    "import matplotlib.pyplot as plt\n",
    "import banners\n",
    "from scipy import stats"
   ]
  },
  {
   "cell_type": "markdown",
   "source": [
    "Going straight to a distribution that would predict results would be complicated. Lets start by modeling what the\n",
    "probability of getting a 5 star pull is depending on where we are in an 90 pull set. Ideally, we want to turn this\n",
    "threshold into a parameter for the distribution (because this threshold is different for the weapon banner).\n",
    "\n",
    "For now, let's assume standard/character event banner rates. That is: hard pity at 90, soft pity at 75, raw rate of 0.06\n",
    "and soft pity rate of 0.33 (or +0.324). Modeling just our raw chance per pull, this is basically two uniform\n",
    "distributions. Somebody better at probability/stats than I could probably take that and solve this right away.\n",
    "\n",
    "Unfortunately, my knowledge of stats and probability is pretty basic, so we're going to try to do this the hard way.\n",
    "Let's start by modeling the probability of hitting successive failures in series form.\n",
    "\n",
    "Let p be the constant probability pre-soft pity and q the constant probability during soft pity"
   ],
   "metadata": {
    "collapsed": false
   }
  },
  {
   "cell_type": "markdown",
   "source": [
    "\n",
    "\\begin{equation*}\n",
    "P(n) = \\sum_{k=1}^{n<76} (1-p)^n\n",
    "\\end{equation*}\n"
   ],
   "metadata": {
    "collapsed": false,
    "pycharm": {
     "name": "#%% md\n"
    }
   }
  }
 ],
 "metadata": {
  "kernelspec": {
   "display_name": "Python 3",
   "language": "python",
   "name": "python3"
  },
  "language_info": {
   "codemirror_mode": {
    "name": "ipython",
    "version": 2
   },
   "file_extension": ".py",
   "mimetype": "text/x-python",
   "name": "python",
   "nbconvert_exporter": "python",
   "pygments_lexer": "ipython2",
   "version": "2.7.6"
  }
 },
 "nbformat": 4,
 "nbformat_minor": 0
}