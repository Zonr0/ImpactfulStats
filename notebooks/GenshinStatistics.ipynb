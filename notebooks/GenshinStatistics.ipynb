{
 "cells": [
  {
   "cell_type": "code",
   "execution_count": null,
   "outputs": [],
   "source": [
    "import numpy as np\n",
    "import matplotlib.pyplot as plt\n",
    "import banners\n",
    "from scipy import stats"
   ],
   "metadata": {
    "collapsed": false,
    "pycharm": {
     "name": "#%%\n"
    }
   }
  },
  {
   "cell_type": "markdown",
   "source": [
    "## Wish probability calculator:\n",
    "\n",
    "The following charts and data are intended to help visualize the probability of wishes in Genshin Impact. Let's be\n",
    "honest: whatever your thoughts are on lootboxes, gacha, etc are, they are a form of gambling (even if you're totally\n",
    "f2p! You're effectively betting your time if nothing else). This means that wishes are subject to all of the same\n",
    "psychological traps that are found in any games of chance.\n",
    "\n",
    "These traps can really mess with our intuition and can lead to disappointment or poor financial decisions. In my\n",
    "personal experience, the best way to combat these problems is to visualize and explore the actual math behind these\n",
    "rates and to try to re-contexualize into something more understandable.\n",
    "\n",
    "Remember though: **these are not guarantees**."
   ],
   "metadata": {
    "collapsed": false,
    "pycharm": {
     "name": "#%% md\n"
    }
   }
  },
  {
   "cell_type": "code",
   "execution_count": null,
   "metadata": {
    "collapsed": true,
    "pycharm": {
     "name": "#%% Model parameters\n"
    }
   },
   "outputs": [],
   "source": [
    "## Simple Model\n",
    "n=1 # Number successes\n",
    "p = banners.DEFAULT_EVENT_RATES.fiveStarCons * banners.DEFAULT_EVENT_RATES.fiveStarPriorityRate# Probability of success\n",
    "\n",
    "\n",
    "primo_spend = 181\n",
    "usd_spend = 200\n",
    "num_pulls = 0 # Existing wish items\n",
    "\n",
    "primo_spend += usd_spend * PRIMO_PER_USD_BEST\n",
    "num_pulls += primo_spend // WISH_PRIMO_COST\n",
    "\n",
    "print(f\"Probability assuming a total of {num_pulls} pulls.\")"
   ]
  },
  {
   "cell_type": "code",
   "execution_count": null,
   "outputs": [],
   "source": [
    "mean_rolls_per_char = stats.nbinom.mean(n=n, p=p)\n",
    "print(f\"On average, you would need {mean_rolls_per_char} pulls to get {n} copies of the limited character.\")\n",
    "print(f\"This is equal to {mean_rolls_per_char * WISH_PRIMO_COST} gems or ${(mean_rolls_per_char * WISH_PRIMO_COST) / PRIMO_PER_USD_BEST:.2f}\")\n",
    "successes = np.arange(0, 11)\n",
    "\n",
    "fig, axs = plt.subplots(2, 1, sharex=True, sharey=True)\n",
    "ax1 = axs[0]\n",
    "ax2 = axs[1]\n",
    "distribution = stats.binom(n=num_pulls,p=p)\n",
    "print(distribution.cdf(1))\n",
    "ax1.bar(successes, 100 * distribution.pmf(successes))\n",
    "ax2.bar(successes, 100 * (1 - distribution.cdf(successes - 1)))\n",
    "# ppf takes a percentile and returns the value at that percentile\n",
    "# ax2.plot(successes,stats.binom.ppf(q=successes, n=num_pulls, p=p))\n",
    "\n",
    "# Format the plot\n",
    "start, end = ax1.get_xlim()\n",
    "ax1.set_xlabel(xlabel=\"Copies of 5 Star Limited Character\")\n",
    "ax1.xaxis.set_ticks(successes)\n",
    "\n",
    "ax1.set_ylim(0, 100)\n",
    "ax2.set_ylim(0, 100)\n",
    "ax1.set_ylabel(ylabel=\"Exactly this many\")\n",
    "ax2.set_ylabel(ylabel=\"At least this many\")\n",
    "plt.show()\n",
    "\n"
   ],
   "metadata": {
    "collapsed": false,
    "pycharm": {
     "name": "#%% Expected number of copies of limited 5 star character.\n"
    }
   }
  }
 ],
 "metadata": {
  "kernelspec": {
   "display_name": "Python 3",
   "language": "python",
   "name": "python3"
  },
  "language_info": {
   "codemirror_mode": {
    "name": "ipython",
    "version": 2
   },
   "file_extension": ".py",
   "mimetype": "text/x-python",
   "name": "python",
   "nbconvert_exporter": "python",
   "pygments_lexer": "ipython2",
   "version": "2.7.6"
  }
 },
 "nbformat": 4,
 "nbformat_minor": 0
}